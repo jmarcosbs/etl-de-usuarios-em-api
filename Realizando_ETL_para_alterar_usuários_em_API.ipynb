{
  "nbformat": 4,
  "nbformat_minor": 0,
  "metadata": {
    "colab": {
      "provenance": [],
      "collapsed_sections": [
        "kNuP0SDUZMBY"
      ],
      "include_colab_link": true
    },
    "kernelspec": {
      "name": "python3",
      "display_name": "Python 3"
    },
    "language_info": {
      "name": "python"
    }
  },
  "cells": [
    {
      "cell_type": "markdown",
      "metadata": {
        "id": "view-in-github",
        "colab_type": "text"
      },
      "source": [
        "<a href=\"https://colab.research.google.com/github/jmarcosbs/etl-de-usuarios-em-api/blob/main/Realizando_ETL_para_alterar_usu%C3%A1rios_em_API.ipynb\" target=\"_parent\"><img src=\"https://colab.research.google.com/assets/colab-badge.svg\" alt=\"Open In Colab\"/></a>"
      ]
    },
    {
      "cell_type": "markdown",
      "source": [
        "# Santander Dev Week 2023 (ETL com Python)"
      ],
      "metadata": {
        "id": "BPJQsTCULaC-"
      }
    },
    {
      "cell_type": "markdown",
      "source": [
        "**Contexto:** Você é um cientista de dados no Santander e recebeu a tarefa de envolver seus clientes de maneira mais personalizada. Seu objetivo é usar o poder da IA Generativa para criar mensagens de marketing personalizadas que serão entregues a cada cliente.\n",
        "\n",
        "**Condições do Problema:**\n",
        "\n",
        "1. Você recebeu uma planilha simples, em formato CSV ('SDW2023.csv'), com uma lista de IDs de usuário do banco:\n",
        "  ```\n",
        "  UserID\n",
        "  1\n",
        "  2\n",
        "  3\n",
        "  4\n",
        "  5\n",
        "  ```\n",
        "2. Seu trabalho é consumir o endpoint `GET https://sdw-2023-prd.up.railway.app/users/{id}` (API da Santander Dev Week 2023) para obter os dados de cada cliente.\n",
        "3. Depois de obter os dados dos clientes, você vai usar a API do ChatGPT (OpenAI) para gerar uma mensagem de marketing personalizada para cada cliente. Essa mensagem deve enfatizar a importância dos investimentos.\n",
        "4. Uma vez que a mensagem para cada cliente esteja pronta, você vai enviar essas informações de volta para a API, atualizando a lista de \"news\" de cada usuário usando o endpoint `PUT https://sdw-2023-prd.up.railway.app/users/{id}`.\n",
        "\n"
      ],
      "metadata": {
        "id": "k5fA5OrXt1a3"
      }
    },
    {
      "cell_type": "code",
      "source": [
        "# Utilize sua própria URL se quiser ;)\n",
        "# Repositório da API: https://github.com/digitalinnovationone/santander-dev-week-2023-api\n",
        "sdw2023_api_url = 'https://sdw-2023-prd.up.railway.app'"
      ],
      "metadata": {
        "id": "FKqLC_CWoYqR"
      },
      "execution_count": 2,
      "outputs": []
    },
    {
      "cell_type": "markdown",
      "source": [
        "## **E**xtract\n",
        "\n",
        "Extraia a lista de IDs de usuário a partir do arquivo CSV. Para cada ID, faça uma requisição GET para obter os dados do usuário correspondente."
      ],
      "metadata": {
        "id": "9dfI-o7gLRq9"
      }
    },
    {
      "cell_type": "code",
      "execution_count": 4,
      "metadata": {
        "id": "NYydpX_GLRCB",
        "outputId": "913101c3-2d99-441b-b1f2-63fdce57b72c",
        "colab": {
          "base_uri": "https://localhost:8080/"
        }
      },
      "outputs": [
        {
          "output_type": "stream",
          "name": "stdout",
          "text": [
            "[3893, 3900]\n"
          ]
        }
      ],
      "source": [
        "import pandas as pd\n",
        "\n",
        "df = pd.read_csv('SDW2023.csv')\n",
        "user_ids = df['UserID'].tolist()\n",
        "print(user_ids)"
      ]
    },
    {
      "cell_type": "code",
      "source": [
        "import requests\n",
        "import json\n",
        "\n",
        "def get_user(id):\n",
        "  response = requests.get(f'{sdw2023_api_url}/users/{id}')\n",
        "  return response.json() if response.status_code == 200 else None\n",
        "\n",
        "users = [user for id in user_ids if (user := get_user(id)) is not None]\n",
        "print(json.dumps(users, indent=2))"
      ],
      "metadata": {
        "id": "F5XOuCZGSTGw",
        "colab": {
          "base_uri": "https://localhost:8080/"
        },
        "outputId": "93460f19-1974-4774-e3ba-6c4834a12b6d"
      },
      "execution_count": 14,
      "outputs": [
        {
          "output_type": "stream",
          "name": "stdout",
          "text": [
            "[\n",
            "  {\n",
            "    \"id\": 3893,\n",
            "    \"name\": \"Usuario 3\",\n",
            "    \"account\": {\n",
            "      \"id\": 4128,\n",
            "      \"number\": \"78455-1\",\n",
            "      \"agency\": \"0055\",\n",
            "      \"balance\": 1000.0,\n",
            "      \"limit\": 1000.0\n",
            "    },\n",
            "    \"card\": {\n",
            "      \"id\": 3785,\n",
            "      \"number\": \"9827 7723 2732 2918\",\n",
            "      \"limit\": 1000.0\n",
            "    },\n",
            "    \"features\": [\n",
            "      {\n",
            "        \"id\": 1220,\n",
            "        \"icon\": \"icon.png\",\n",
            "        \"description\": \"string\"\n",
            "      }\n",
            "    ],\n",
            "    \"news\": [\n",
            "      {\n",
            "        \"id\": 238,\n",
            "        \"icon\": \"string\",\n",
            "        \"description\": \"string\"\n",
            "      }\n",
            "    ]\n",
            "  },\n",
            "  {\n",
            "    \"id\": 3900,\n",
            "    \"name\": \"Usuario Novo\",\n",
            "    \"account\": {\n",
            "      \"id\": 4135,\n",
            "      \"number\": \"1984-2\",\n",
            "      \"agency\": \"48934\",\n",
            "      \"balance\": 234.0,\n",
            "      \"limit\": 234.0\n",
            "    },\n",
            "    \"card\": {\n",
            "      \"id\": 3792,\n",
            "      \"number\": \"9928 5621 4563 1456\",\n",
            "      \"limit\": 235.0\n",
            "    },\n",
            "    \"features\": [\n",
            "      {\n",
            "        \"id\": 1224,\n",
            "        \"icon\": \"string.png\",\n",
            "        \"description\": \"string\"\n",
            "      }\n",
            "    ],\n",
            "    \"news\": [\n",
            "      {\n",
            "        \"id\": 7737,\n",
            "        \"icon\": \"string.png\",\n",
            "        \"description\": \"string\"\n",
            "      }\n",
            "    ]\n",
            "  }\n",
            "]\n"
          ]
        }
      ]
    },
    {
      "cell_type": "markdown",
      "source": [
        "## **T**ransform\n",
        "\n",
        "Utilize a API do OpenAI GPT-4 para gerar uma mensagem de marketing personalizada para cada usuário."
      ],
      "metadata": {
        "id": "cWoqInB4TF1x"
      }
    },
    {
      "cell_type": "code",
      "source": [
        "print(\"---- Realizar alteração de nome de usuário ----\")\n",
        "print(\"Lista de usuários cadastrados:\")\n",
        "\n",
        "for user in users:\n",
        "  print(f\"ID: {user['id']} | Nome: {user['name']}\")\n",
        "\n",
        "usuario_editado = False\n",
        "\n",
        "qual_user = int(input('Digite o ID do usuário que deseja alterar o nome: '))\n",
        "\n",
        "while usuario_editado == False:\n",
        "\n",
        "  for user in users:\n",
        "    if user['id'] == qual_user:\n",
        "        troca_user = input(\"Qual nome do usuário deseja colocar? \")\n",
        "        user['name'] = troca_user\n",
        "        usuario_editado = True\n",
        "\n",
        "  if usuario_editado == True:\n",
        "\n",
        "    print(f\"Usuário {user['name']} editado com sucesso!\")\n",
        "\n",
        "  else:\n",
        "\n",
        "    qual_user = int(input('Usuário não encontrado! Digite novamente o ID do Usuário: '))\n"
      ],
      "metadata": {
        "id": "n1w78kNxTrZY",
        "colab": {
          "base_uri": "https://localhost:8080/"
        },
        "outputId": "315cedc7-69ab-46de-dea5-ce9505e3cc6d"
      },
      "execution_count": 15,
      "outputs": [
        {
          "output_type": "stream",
          "name": "stdout",
          "text": [
            "---- Realizar alteração de nome de usuário ----\n",
            "Lista de usuários cadastrados:\n",
            "ID: 3893 | Nome: Usuario 3\n",
            "ID: 3900 | Nome: Usuario Novo\n",
            "Digite o ID do usuário que deseja alterar o nome: 6\n",
            "Usuário não encontrado! Digite novamente o ID do Usuário: 5\n",
            "Usuário não encontrado! Digite novamente o ID do Usuário: 3893\n",
            "Qual nome do usuário deseja colocar? Novo Usuario\n",
            "Usuário Usuario Novo editado com sucesso!\n"
          ]
        }
      ]
    },
    {
      "cell_type": "code",
      "source": [],
      "metadata": {
        "id": "oATlY6KQRrbg"
      },
      "execution_count": null,
      "outputs": []
    },
    {
      "cell_type": "markdown",
      "source": [
        "## **L**oad\n",
        "\n",
        "Atualize a lista de \"news\" de cada usuário na API com a nova mensagem gerada."
      ],
      "metadata": {
        "id": "kNuP0SDUZMBY"
      }
    },
    {
      "cell_type": "code",
      "source": [
        "def update_user(user):\n",
        "  response = requests.put(f\"{sdw2023_api_url}/users/{user['id']}\", json=user)\n",
        "  return True if response.status_code == 200 else False\n",
        "\n",
        "for user in users:\n",
        "  success = update_user(user)\n",
        "  print(f\"User {user['name']} updated? {success}!\")"
      ],
      "metadata": {
        "id": "YefWfYBoZMN2",
        "colab": {
          "base_uri": "https://localhost:8080/"
        },
        "outputId": "572ae312-46a3-49b2-9fc7-3ffaced97a6c"
      },
      "execution_count": 13,
      "outputs": [
        {
          "output_type": "stream",
          "name": "stdout",
          "text": [
            "User Usuario 3 updated? True!\n",
            "User Usuario Novo updated? True!\n"
          ]
        }
      ]
    }
  ]
}